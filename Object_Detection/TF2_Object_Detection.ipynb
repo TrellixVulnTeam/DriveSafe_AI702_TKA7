{
  "cells": [
    {
      "cell_type": "markdown",
      "metadata": {},
      "source": [
        "**References** <br>\n",
        "TF2 Object Detection : https://github.com/tensorflow/models/tree/master/research/object_detection <br>\n",
        "TF2 Object Detection API Tutorial : https://tensorflow-object-detection-api-tutorial.readthedocs.io/en/latest/training.html <br>\n",
        "TF2 Model Zoo : https://github.com/tensorflow/models/blob/master/research/object_detection/g3doc/tf2_detection_zoo.md <br>\n",
        "Post-Training Quantization : https://www.tensorflow.org/lite/performance/post_training_quantization <br>"
      ]
    },
    {
      "cell_type": "markdown",
      "metadata": {},
      "source": [
        "### Create new environment and install the necessary packages"
      ]
    },
    {
      "cell_type": "markdown",
      "metadata": {},
      "source": [
        "#### Python version = 3.8.11"
      ]
    },
    {
      "cell_type": "markdown",
      "metadata": {},
      "source": [
        "The commands and installations is better to be done using a terminal after activating the environment. Some commands do not work in the Jupyter Notebook"
      ]
    },
    {
      "cell_type": "code",
      "execution_count": 1,
      "metadata": {},
      "outputs": [
        {
          "name": "stdout",
          "output_type": "stream",
          "text": [
            "Collecting package metadata (current_repodata.json): done\n",
            "Solving environment: failed with initial frozen solve. Retrying with flexible solve.\n",
            "Collecting package metadata (repodata.json): done\n",
            "Solving environment: failed with initial frozen solve. Retrying with flexible solve.\n",
            "Solving environment: done\n",
            "\n",
            "\n",
            "==> WARNING: A newer version of conda exists. <==\n",
            "  current version: 4.10.3\n",
            "  latest version: 4.12.0\n",
            "\n",
            "Please update conda by running\n",
            "\n",
            "    $ conda update -n base -c defaults conda\n",
            "\n",
            "\n",
            "\n",
            "## Package Plan ##\n",
            "\n",
            "  environment location: /home/sahal.mullappilly/.conda/envs/cv701\n",
            "\n",
            "  added / updated specs:\n",
            "    - protobuf\n",
            "\n",
            "\n",
            "The following packages will be downloaded:\n",
            "\n",
            "    package                    |            build\n",
            "    ---------------------------|-----------------\n",
            "    cloudpickle-1.6.0          |             py_0          29 KB  anaconda\n",
            "    importlib-metadata-3.10.0  |   py38h06a4308_0          33 KB  anaconda\n",
            "    importlib_metadata-3.10.0  |       hd3eb1b0_0          11 KB  anaconda\n",
            "    libprotobuf-3.19.1         |       h4ff587b_0         2.5 MB  anaconda\n",
            "    protobuf-3.19.1            |   py38h295c915_0         345 KB  anaconda\n",
            "    ------------------------------------------------------------\n",
            "                                           Total:         2.9 MB\n",
            "\n",
            "The following packages will be UPDATED:\n",
            "\n",
            "  libprotobuf                           3.13.0.1-hd408876_0 --> 3.19.1-h4ff587b_0\n",
            "  protobuf                          3.13.0.1-py38he6710b0_1 --> 3.19.1-py38h295c915_0\n",
            "\n",
            "The following packages will be DOWNGRADED:\n",
            "\n",
            "  cloudpickle                            2.0.0-pyhd3eb1b0_0 --> 1.6.0-py_0\n",
            "  importlib-metadata                  4.11.3-py38h06a4308_0 --> 3.10.0-py38h06a4308_0\n",
            "  importlib_metadata                      4.11.3-hd3eb1b0_0 --> 3.10.0-hd3eb1b0_0\n",
            "\n",
            "\n",
            "\n",
            "Downloading and Extracting Packages\n",
            "importlib_metadata-3 | 11 KB     | ##################################### | 100% \n",
            "libprotobuf-3.19.1   | 2.5 MB    | ##################################### | 100% \n",
            "cloudpickle-1.6.0    | 29 KB     | ##################################### | 100% \n",
            "protobuf-3.19.1      | 345 KB    | ##################################### | 100% \n",
            "importlib-metadata-3 | 33 KB     | ##################################### | 100% \n",
            "Preparing transaction: done\n",
            "Verifying transaction: done\n",
            "Executing transaction: done\n",
            "\n",
            "Note: you may need to restart the kernel to use updated packages.\n"
          ]
        }
      ],
      "source": [
        "conda install -c anaconda protobuf"
      ]
    },
    {
      "cell_type": "code",
      "execution_count": 2,
      "metadata": {
        "colab": {
          "base_uri": "https://localhost:8080/"
        },
        "id": "GnVG7OmvsAOR",
        "outputId": "a93ee33f-5ad1-436d-a71b-a1c8f28de41c"
      },
      "outputs": [
        {
          "name": "stdout",
          "output_type": "stream",
          "text": [
            "Requirement already satisfied: tensorflow-gpu in /home/sahal.mullappilly/.conda/envs/cv701/lib/python3.8/site-packages (2.8.0)\n",
            "Requirement already satisfied: tensorboard<2.9,>=2.8 in /home/sahal.mullappilly/.conda/envs/cv701/lib/python3.8/site-packages (from tensorflow-gpu) (2.8.0)\n",
            "Requirement already satisfied: libclang>=9.0.1 in /home/sahal.mullappilly/.conda/envs/cv701/lib/python3.8/site-packages (from tensorflow-gpu) (13.0.0)\n",
            "Requirement already satisfied: keras<2.9,>=2.8.0rc0 in /home/sahal.mullappilly/.conda/envs/cv701/lib/python3.8/site-packages (from tensorflow-gpu) (2.8.0)\n",
            "Requirement already satisfied: keras-preprocessing>=1.1.1 in /home/sahal.mullappilly/.conda/envs/cv701/lib/python3.8/site-packages (from tensorflow-gpu) (1.1.2)\n",
            "Requirement already satisfied: typing-extensions>=3.6.6 in /home/sahal.mullappilly/.conda/envs/cv701/lib/python3.8/site-packages (from tensorflow-gpu) (3.10.0.0)\n",
            "Requirement already satisfied: h5py>=2.9.0 in /home/sahal.mullappilly/.conda/envs/cv701/lib/python3.8/site-packages (from tensorflow-gpu) (3.6.0)\n",
            "Requirement already satisfied: flatbuffers>=1.12 in /home/sahal.mullappilly/.conda/envs/cv701/lib/python3.8/site-packages (from tensorflow-gpu) (1.12)\n",
            "Requirement already satisfied: gast>=0.2.1 in /home/sahal.mullappilly/.conda/envs/cv701/lib/python3.8/site-packages (from tensorflow-gpu) (0.5.3)\n",
            "Requirement already satisfied: protobuf>=3.9.2 in /home/sahal.mullappilly/.conda/envs/cv701/lib/python3.8/site-packages (from tensorflow-gpu) (3.19.4)\n",
            "Requirement already satisfied: tensorflow-io-gcs-filesystem>=0.23.1 in /home/sahal.mullappilly/.conda/envs/cv701/lib/python3.8/site-packages (from tensorflow-gpu) (0.24.0)\n",
            "Requirement already satisfied: astunparse>=1.6.0 in /home/sahal.mullappilly/.conda/envs/cv701/lib/python3.8/site-packages (from tensorflow-gpu) (1.6.3)\n",
            "Requirement already satisfied: google-pasta>=0.1.1 in /home/sahal.mullappilly/.conda/envs/cv701/lib/python3.8/site-packages (from tensorflow-gpu) (0.2.0)\n",
            "Requirement already satisfied: numpy>=1.20 in /home/sahal.mullappilly/.conda/envs/cv701/lib/python3.8/site-packages (from tensorflow-gpu) (1.20.3)\n",
            "Requirement already satisfied: termcolor>=1.1.0 in /home/sahal.mullappilly/.conda/envs/cv701/lib/python3.8/site-packages (from tensorflow-gpu) (1.1.0)\n",
            "Requirement already satisfied: absl-py>=0.4.0 in /home/sahal.mullappilly/.conda/envs/cv701/lib/python3.8/site-packages (from tensorflow-gpu) (1.0.0)\n",
            "Requirement already satisfied: wrapt>=1.11.0 in /home/sahal.mullappilly/.conda/envs/cv701/lib/python3.8/site-packages (from tensorflow-gpu) (1.14.0)\n",
            "Requirement already satisfied: six>=1.12.0 in /home/sahal.mullappilly/.conda/envs/cv701/lib/python3.8/site-packages (from tensorflow-gpu) (1.16.0)\n",
            "Requirement already satisfied: tf-estimator-nightly==2.8.0.dev2021122109 in /home/sahal.mullappilly/.conda/envs/cv701/lib/python3.8/site-packages (from tensorflow-gpu) (2.8.0.dev2021122109)\n",
            "Requirement already satisfied: setuptools in /home/sahal.mullappilly/.conda/envs/cv701/lib/python3.8/site-packages (from tensorflow-gpu) (52.0.0.post20210125)\n",
            "Requirement already satisfied: grpcio<2.0,>=1.24.3 in /home/sahal.mullappilly/.conda/envs/cv701/lib/python3.8/site-packages (from tensorflow-gpu) (1.44.0)\n",
            "Requirement already satisfied: opt-einsum>=2.3.2 in /home/sahal.mullappilly/.conda/envs/cv701/lib/python3.8/site-packages (from tensorflow-gpu) (3.3.0)\n",
            "Requirement already satisfied: wheel<1.0,>=0.23.0 in /home/sahal.mullappilly/.conda/envs/cv701/lib/python3.8/site-packages (from astunparse>=1.6.0->tensorflow-gpu) (0.37.0)\n",
            "Requirement already satisfied: werkzeug>=0.11.15 in /home/sahal.mullappilly/.conda/envs/cv701/lib/python3.8/site-packages (from tensorboard<2.9,>=2.8->tensorflow-gpu) (2.0.3)\n",
            "Requirement already satisfied: requests<3,>=2.21.0 in /home/sahal.mullappilly/.conda/envs/cv701/lib/python3.8/site-packages (from tensorboard<2.9,>=2.8->tensorflow-gpu) (2.27.1)\n",
            "Requirement already satisfied: google-auth<3,>=1.6.3 in /home/sahal.mullappilly/.conda/envs/cv701/lib/python3.8/site-packages (from tensorboard<2.9,>=2.8->tensorflow-gpu) (2.6.0)\n",
            "Requirement already satisfied: google-auth-oauthlib<0.5,>=0.4.1 in /home/sahal.mullappilly/.conda/envs/cv701/lib/python3.8/site-packages (from tensorboard<2.9,>=2.8->tensorflow-gpu) (0.4.6)\n",
            "Requirement already satisfied: tensorboard-plugin-wit>=1.6.0 in /home/sahal.mullappilly/.conda/envs/cv701/lib/python3.8/site-packages (from tensorboard<2.9,>=2.8->tensorflow-gpu) (1.8.1)\n",
            "Requirement already satisfied: tensorboard-data-server<0.7.0,>=0.6.0 in /home/sahal.mullappilly/.conda/envs/cv701/lib/python3.8/site-packages (from tensorboard<2.9,>=2.8->tensorflow-gpu) (0.6.1)\n",
            "Requirement already satisfied: markdown>=2.6.8 in /home/sahal.mullappilly/.conda/envs/cv701/lib/python3.8/site-packages (from tensorboard<2.9,>=2.8->tensorflow-gpu) (3.3.6)\n",
            "Requirement already satisfied: rsa<5,>=3.1.4 in /home/sahal.mullappilly/.conda/envs/cv701/lib/python3.8/site-packages (from google-auth<3,>=1.6.3->tensorboard<2.9,>=2.8->tensorflow-gpu) (4.8)\n",
            "Requirement already satisfied: cachetools<6.0,>=2.0.0 in /home/sahal.mullappilly/.conda/envs/cv701/lib/python3.8/site-packages (from google-auth<3,>=1.6.3->tensorboard<2.9,>=2.8->tensorflow-gpu) (5.0.0)\n",
            "Requirement already satisfied: pyasn1-modules>=0.2.1 in /home/sahal.mullappilly/.conda/envs/cv701/lib/python3.8/site-packages (from google-auth<3,>=1.6.3->tensorboard<2.9,>=2.8->tensorflow-gpu) (0.2.8)\n",
            "Requirement already satisfied: requests-oauthlib>=0.7.0 in /home/sahal.mullappilly/.conda/envs/cv701/lib/python3.8/site-packages (from google-auth-oauthlib<0.5,>=0.4.1->tensorboard<2.9,>=2.8->tensorflow-gpu) (1.3.1)\n",
            "Collecting importlib-metadata>=4.4\n",
            "  Using cached importlib_metadata-4.11.3-py3-none-any.whl (18 kB)\n",
            "Requirement already satisfied: zipp>=0.5 in /home/sahal.mullappilly/.conda/envs/cv701/lib/python3.8/site-packages (from importlib-metadata>=4.4->markdown>=2.6.8->tensorboard<2.9,>=2.8->tensorflow-gpu) (3.5.0)\n",
            "Requirement already satisfied: pyasn1<0.5.0,>=0.4.6 in /home/sahal.mullappilly/.conda/envs/cv701/lib/python3.8/site-packages (from pyasn1-modules>=0.2.1->google-auth<3,>=1.6.3->tensorboard<2.9,>=2.8->tensorflow-gpu) (0.4.8)\n",
            "Requirement already satisfied: charset-normalizer~=2.0.0 in /home/sahal.mullappilly/.conda/envs/cv701/lib/python3.8/site-packages (from requests<3,>=2.21.0->tensorboard<2.9,>=2.8->tensorflow-gpu) (2.0.11)\n",
            "Requirement already satisfied: urllib3<1.27,>=1.21.1 in /home/sahal.mullappilly/.conda/envs/cv701/lib/python3.8/site-packages (from requests<3,>=2.21.0->tensorboard<2.9,>=2.8->tensorflow-gpu) (1.26.8)\n",
            "Requirement already satisfied: idna<4,>=2.5 in /home/sahal.mullappilly/.conda/envs/cv701/lib/python3.8/site-packages (from requests<3,>=2.21.0->tensorboard<2.9,>=2.8->tensorflow-gpu) (3.3)\n",
            "Requirement already satisfied: certifi>=2017.4.17 in /home/sahal.mullappilly/.conda/envs/cv701/lib/python3.8/site-packages (from requests<3,>=2.21.0->tensorboard<2.9,>=2.8->tensorflow-gpu) (2021.10.8)\n",
            "Requirement already satisfied: oauthlib>=3.0.0 in /home/sahal.mullappilly/.conda/envs/cv701/lib/python3.8/site-packages (from requests-oauthlib>=0.7.0->google-auth-oauthlib<0.5,>=0.4.1->tensorboard<2.9,>=2.8->tensorflow-gpu) (3.2.0)\n",
            "Installing collected packages: importlib-metadata\n",
            "  Attempting uninstall: importlib-metadata\n",
            "    Found existing installation: importlib-metadata 3.10.0\n",
            "    Uninstalling importlib-metadata-3.10.0:\n",
            "      Successfully uninstalled importlib-metadata-3.10.0\n",
            "Successfully installed importlib-metadata-4.11.3\n",
            "Note: you may need to restart the kernel to use updated packages.\n"
          ]
        }
      ],
      "source": [
        "pip install tensorflow-gpu"
      ]
    },
    {
      "cell_type": "code",
      "execution_count": 1,
      "metadata": {},
      "outputs": [
        {
          "name": "stdout",
          "output_type": "stream",
          "text": [
            "Collecting opencv-python-headless==4.1.2.30\n",
            "  Downloading opencv_python_headless-4.1.2.30-cp38-cp38-manylinux1_x86_64.whl (21.8 MB)\n",
            "\u001b[K     |████████████████████████████████| 21.8 MB 661 kB/s eta 0:00:01\n",
            "\u001b[?25hRequirement already satisfied: numpy>=1.17.3 in /home/sahal.mullappilly/.conda/envs/cv701/lib/python3.8/site-packages (from opencv-python-headless==4.1.2.30) (1.20.3)\n",
            "Installing collected packages: opencv-python-headless\n",
            "  Attempting uninstall: opencv-python-headless\n",
            "    Found existing installation: opencv-python-headless 4.5.5.64\n",
            "    Uninstalling opencv-python-headless-4.5.5.64:\n",
            "      Successfully uninstalled opencv-python-headless-4.5.5.64\n",
            "Successfully installed opencv-python-headless-4.1.2.30\n",
            "Note: you may need to restart the kernel to use updated packages.\n"
          ]
        }
      ],
      "source": [
        "# Install OpenCV for inference\n",
        "pip install opencv-python-headless==4.1.2.30"
      ]
    },
    {
      "cell_type": "code",
      "execution_count": 4,
      "metadata": {
        "colab": {
          "base_uri": "https://localhost:8080/"
        },
        "id": "oeyP0aYes9Zs",
        "outputId": "69bf5f75-3297-4601-da5c-2ff17581f2e0"
      },
      "outputs": [
        {
          "name": "stdout",
          "output_type": "stream",
          "text": [
            "2.8.0\n"
          ]
        }
      ],
      "source": [
        "import tensorflow as tf\n",
        "print(tf.__version__)"
      ]
    },
    {
      "cell_type": "code",
      "execution_count": 3,
      "metadata": {
        "colab": {
          "base_uri": "https://localhost:8080/"
        },
        "id": "kFkdXoEltLY9",
        "outputId": "8b314550-118b-426c-f18a-ff5d1cf88f85"
      },
      "outputs": [
        {
          "name": "stdout",
          "output_type": "stream",
          "text": [
            "Cloning into 'models'...\n",
            "remote: Enumerating objects: 70382, done.\u001b[K\n",
            "remote: Total 70382 (delta 0), reused 0 (delta 0), pack-reused 70382\u001b[K\n",
            "Receiving objects: 100% (70382/70382), 578.38 MiB | 10.70 MiB/s, done.\n",
            "Resolving deltas: 100% (49675/49675), done.\n",
            "Updating files: 100% (3242/3242), done.\n"
          ]
        }
      ],
      "source": [
        "# Clone the following directory or download and use existing models folder from the github repo\n",
        "# !git clone https://github.com/tensorflow/models.git"
      ]
    },
    {
      "cell_type": "markdown",
      "metadata": {},
      "source": [
        "### Install the protoc files in the Object Detection folder"
      ]
    },
    {
      "cell_type": "markdown",
      "metadata": {},
      "source": [
        "Run the protoc installation command in a terminal after activating the environment"
      ]
    },
    {
      "cell_type": "code",
      "execution_count": 2,
      "metadata": {
        "colab": {
          "base_uri": "https://localhost:8080/",
          "height": 35
        },
        "id": "aJ4YzpQ4tMlz",
        "outputId": "926a7ae3-fbd1-4827-f670-8fda526693ad"
      },
      "outputs": [
        {
          "data": {
            "text/plain": [
              "'/home/sahal.mullappilly/Downloads/Spring 2022/AI701/Object_Detection'"
            ]
          },
          "execution_count": 2,
          "metadata": {},
          "output_type": "execute_result"
        }
      ],
      "source": [
        "pwd"
      ]
    },
    {
      "cell_type": "code",
      "execution_count": 3,
      "metadata": {
        "colab": {
          "base_uri": "https://localhost:8080/"
        },
        "id": "6ZwI0sTdtMsc",
        "outputId": "51c37a07-9a58-4fa5-f956-846cdf0acbc6"
      },
      "outputs": [
        {
          "name": "stdout",
          "output_type": "stream",
          "text": [
            "/home/sahal.mullappilly/Downloads/Spring 2022/AI701/Object_Detection/models/research\n"
          ]
        }
      ],
      "source": [
        "cd models/research"
      ]
    },
    {
      "cell_type": "code",
      "execution_count": 4,
      "metadata": {
        "colab": {
          "base_uri": "https://localhost:8080/",
          "height": 35
        },
        "id": "SK5RyNz9tMvZ",
        "outputId": "4c4cf3ef-8a60-49e7-ae15-bcf5d7fffdfb"
      },
      "outputs": [
        {
          "data": {
            "text/plain": [
              "'/home/sahal.mullappilly/Downloads/Spring 2022/AI701/Object_Detection/models/research'"
            ]
          },
          "execution_count": 4,
          "metadata": {},
          "output_type": "execute_result"
        }
      ],
      "source": [
        "pwd"
      ]
    },
    {
      "cell_type": "code",
      "execution_count": null,
      "metadata": {
        "id": "NozH3MfAtMyR"
      },
      "outputs": [],
      "source": [
        "# Run the following command in a terminal after activating the environment\n",
        "protoc object_detection/protos/*.proto --python_out=."
      ]
    },
    {
      "cell_type": "code",
      "execution_count": 9,
      "metadata": {
        "colab": {
          "base_uri": "https://localhost:8080/"
        },
        "id": "alOqL7ortM1F",
        "outputId": "c3815ec6-c0c4-4dd6-a55e-24d942e236d6"
      },
      "outputs": [
        {
          "name": "stdout",
          "output_type": "stream",
          "text": [
            "Cloning into 'cocoapi'...\n",
            "remote: Enumerating objects: 975, done.\u001b[K\n",
            "remote: Total 975 (delta 0), reused 0 (delta 0), pack-reused 975\u001b[K\n",
            "Receiving objects: 100% (975/975), 11.72 MiB | 5.25 MiB/s, done.\n",
            "Resolving deltas: 100% (576/576), done.\n"
          ]
        }
      ],
      "source": [
        "# Clone cocoapi in the research folder - or use the existing folder\n",
        "# !git clone https://github.com/cocodataset/cocoapi.git\n"
      ]
    },
    {
      "cell_type": "markdown",
      "metadata": {},
      "source": [
        "### Install CocoApi Tools"
      ]
    },
    {
      "cell_type": "code",
      "execution_count": 9,
      "metadata": {
        "colab": {
          "base_uri": "https://localhost:8080/"
        },
        "id": "0XRlMiuEtM4R",
        "outputId": "d2a12841-e558-4121-9921-52c4cc04db97"
      },
      "outputs": [
        {
          "name": "stdout",
          "output_type": "stream",
          "text": [
            "/home/sahal.mullappilly/Downloads/Spring 2022/AI701/Object_Detection/models/research/cocoapi/PythonAPI\n"
          ]
        }
      ],
      "source": [
        "cd cocoapi/PythonAPI"
      ]
    },
    {
      "cell_type": "markdown",
      "metadata": {},
      "source": [
        "Use **make** command to compile the pycocotools folder. Run the command in terminal"
      ]
    },
    {
      "cell_type": "code",
      "execution_count": null,
      "metadata": {
        "colab": {
          "base_uri": "https://localhost:8080/"
        },
        "id": "PZ-xj6MUtM7U",
        "outputId": "dadda585-096a-4076-e4aa-1228507206df"
      },
      "outputs": [],
      "source": [
        "make"
      ]
    },
    {
      "cell_type": "markdown",
      "metadata": {},
      "source": [
        "Copy the compiled pycocotools folder to the main research folder"
      ]
    },
    {
      "cell_type": "code",
      "execution_count": null,
      "metadata": {
        "id": "A5Qr7ACCtM_b"
      },
      "outputs": [],
      "source": [
        "cp -r pycocotools '/home/sahal.mullappilly/Downloads/Spring 2022/AI701/Object_Detection/models/research'"
      ]
    },
    {
      "cell_type": "markdown",
      "metadata": {
        "id": "rLq79dR0uQFt"
      },
      "source": [
        "### Install the Object Detection API"
      ]
    },
    {
      "cell_type": "markdown",
      "metadata": {},
      "source": [
        "Go back to the main research folder, Please run these commands in a terminal"
      ]
    },
    {
      "cell_type": "code",
      "execution_count": null,
      "metadata": {
        "colab": {
          "base_uri": "https://localhost:8080/"
        },
        "id": "MZouxA5TuWgV",
        "outputId": "292ea0b2-d28e-4c56-a77f-7245edbfe4fd"
      },
      "outputs": [],
      "source": [
        "cd '/home/sahal.mullappilly/Downloads/Spring 2022/AI701/Object/models/research'"
      ]
    },
    {
      "cell_type": "code",
      "execution_count": 14,
      "metadata": {},
      "outputs": [
        {
          "data": {
            "text/plain": [
              "'/home/sahal.mullappilly/Downloads/Spring 2022/AI701/Object_Detection/models/research'"
            ]
          },
          "execution_count": 14,
          "metadata": {},
          "output_type": "execute_result"
        }
      ],
      "source": [
        "pwd"
      ]
    },
    {
      "cell_type": "markdown",
      "metadata": {},
      "source": [
        "Copy the setup.py script from this folder from 'object_detection/packages/tf2/' to the root folder"
      ]
    },
    {
      "cell_type": "code",
      "execution_count": 16,
      "metadata": {
        "id": "Q635Jl58uWjI"
      },
      "outputs": [],
      "source": [
        "cp object_detection/packages/tf2/setup.py ."
      ]
    },
    {
      "cell_type": "markdown",
      "metadata": {},
      "source": [
        "Install the setup file in the root folder '.../models/research'"
      ]
    },
    {
      "cell_type": "code",
      "execution_count": null,
      "metadata": {
        "colab": {
          "base_uri": "https://localhost:8080/"
        },
        "id": "ZyrPaXSxuWmI",
        "outputId": "322e8d92-9060-4656-91c4-b971fb985358"
      },
      "outputs": [],
      "source": [
        "python -m pip install ."
      ]
    },
    {
      "cell_type": "code",
      "execution_count": 15,
      "metadata": {
        "colab": {
          "base_uri": "https://localhost:8080/"
        },
        "id": "CAl5feyy9nIG",
        "outputId": "5ff42cdf-8123-434b-a9ae-7e6b24043b72"
      },
      "outputs": [
        {
          "name": "stdout",
          "output_type": "stream",
          "text": [
            "/home/sahal.mullappilly/Downloads/Spring 2022/AI701/Object_Detection/models/research\n"
          ]
        }
      ],
      "source": [
        "!pwd"
      ]
    },
    {
      "cell_type": "markdown",
      "metadata": {},
      "source": [
        "The following script verifies our TF2 object detection API installation"
      ]
    },
    {
      "cell_type": "code",
      "execution_count": null,
      "metadata": {
        "colab": {
          "base_uri": "https://localhost:8080/"
        },
        "id": "cjlR4lsmuWpE",
        "outputId": "78d94738-4a7e-4f4c-870b-1f81e6047818"
      },
      "outputs": [],
      "source": [
        "# From within TensorFlow/models/research/\n",
        "python object_detection/builders/model_builder_tf2_test.py"
      ]
    },
    {
      "cell_type": "markdown",
      "metadata": {},
      "source": [
        "After installation is successfull we can run the *inference_demo.py* to run the trained model for inference"
      ]
    },
    {
      "cell_type": "markdown",
      "metadata": {},
      "source": [
        "### Downloading the Pre-trained models from TF2 Model Zoo"
      ]
    },
    {
      "cell_type": "code",
      "execution_count": 16,
      "metadata": {},
      "outputs": [
        {
          "name": "stdout",
          "output_type": "stream",
          "text": [
            "/home/sahal.mullappilly/Downloads/Spring 2022/AI701/Object_Detection/trainingdemo\n"
          ]
        }
      ],
      "source": [
        "cd '/home/sahal.mullappilly/Downloads/Spring 2022/AI701/Object_Detection/trainingdemo'"
      ]
    },
    {
      "cell_type": "code",
      "execution_count": 18,
      "metadata": {
        "colab": {
          "base_uri": "https://localhost:8080/"
        },
        "id": "gL4BBRoZuWr8",
        "outputId": "b3d05098-172b-4500-8754-7a0b64bc3f31"
      },
      "outputs": [
        {
          "name": "stdout",
          "output_type": "stream",
          "text": [
            "/home/sahal.mullappilly/Downloads/Spring 2022/AI701/Object_Detection/trainingdemo/pre-trained-models\n"
          ]
        }
      ],
      "source": [
        "cd pre-trained-models "
      ]
    },
    {
      "cell_type": "markdown",
      "metadata": {},
      "source": [
        "Use the following commands to download the pre-trained models"
      ]
    },
    {
      "cell_type": "code",
      "execution_count": 57,
      "metadata": {
        "colab": {
          "base_uri": "https://localhost:8080/"
        },
        "id": "MItGLVY3uWu8",
        "outputId": "a01daef8-320d-4d9d-ea16-139d53b13318"
      },
      "outputs": [
        {
          "name": "stdout",
          "output_type": "stream",
          "text": [
            "--2022-03-17 16:57:01--  http://download.tensorflow.org/models/object_detection/tf2/20200711/ssd_resnet50_v1_fpn_640x640_coco17_tpu-8.tar.gz\n",
            "Resolving download.tensorflow.org (download.tensorflow.org)... 142.251.6.128, 2607:f8b0:4001:c5a::80\n",
            "Connecting to download.tensorflow.org (download.tensorflow.org)|142.251.6.128|:80... connected.\n",
            "HTTP request sent, awaiting response... 200 OK\n",
            "Length: 244817203 (233M) [application/x-tar]\n",
            "Saving to: ‘ssd_resnet50_v1_fpn_640x640_coco17_tpu-8.tar.gz’\n",
            "\n",
            "ssd_resnet50_v1_fpn 100%[===================>] 233.48M   215MB/s    in 1.1s    \n",
            "\n",
            "2022-03-17 16:57:02 (215 MB/s) - ‘ssd_resnet50_v1_fpn_640x640_coco17_tpu-8.tar.gz’ saved [244817203/244817203]\n",
            "\n"
          ]
        }
      ],
      "source": [
        "wget http://download.tensorflow.org/models/object_detection/tf2/20200711/ssd_resnet50_v1_fpn_640x640_coco17_tpu-8.tar.gz\n",
        "http://download.tensorflow.org/models/object_detection/tf2/20200711/ssd_mobilenet_v2_fpnlite_320x320_coco17_tpu-8.tar.gz"
      ]
    },
    {
      "cell_type": "markdown",
      "metadata": {},
      "source": [
        "Use the following commands to extract the respective models"
      ]
    },
    {
      "cell_type": "code",
      "execution_count": 60,
      "metadata": {
        "colab": {
          "base_uri": "https://localhost:8080/"
        },
        "id": "tzlPcDPLuWye",
        "outputId": "7eaf2362-dc6c-4e43-bc7b-301dfdd864b2"
      },
      "outputs": [
        {
          "name": "stdout",
          "output_type": "stream",
          "text": [
            "ssd_resnet50_v1_fpn_640x640_coco17_tpu-8/\n",
            "ssd_resnet50_v1_fpn_640x640_coco17_tpu-8/checkpoint/\n",
            "ssd_resnet50_v1_fpn_640x640_coco17_tpu-8/checkpoint/ckpt-0.data-00000-of-00001\n",
            "ssd_resnet50_v1_fpn_640x640_coco17_tpu-8/checkpoint/checkpoint\n",
            "ssd_resnet50_v1_fpn_640x640_coco17_tpu-8/checkpoint/ckpt-0.index\n",
            "ssd_resnet50_v1_fpn_640x640_coco17_tpu-8/pipeline.config\n",
            "ssd_resnet50_v1_fpn_640x640_coco17_tpu-8/saved_model/\n",
            "ssd_resnet50_v1_fpn_640x640_coco17_tpu-8/saved_model/saved_model.pb\n",
            "ssd_resnet50_v1_fpn_640x640_coco17_tpu-8/saved_model/assets/\n",
            "ssd_resnet50_v1_fpn_640x640_coco17_tpu-8/saved_model/variables/\n",
            "ssd_resnet50_v1_fpn_640x640_coco17_tpu-8/saved_model/variables/variables.data-00000-of-00001\n",
            "ssd_resnet50_v1_fpn_640x640_coco17_tpu-8/saved_model/variables/variables.index\n"
          ]
        }
      ],
      "source": [
        "tar -xvf ssd_resnet50_v1_fpn_640x640_coco17_tpu-8.tar.gz\n",
        "tar -xvf ssd_mobilenet_v2_fpnlite_320x320_coco17_tpu-8.tar.gz"
      ]
    },
    {
      "cell_type": "markdown",
      "metadata": {},
      "source": []
    },
    {
      "cell_type": "markdown",
      "metadata": {},
      "source": [
        "## Training the Custom Model"
      ]
    },
    {
      "cell_type": "markdown",
      "metadata": {},
      "source": [
        "1. Create a folder for the custom model in trainingdemo/models/'my-model-name'\n",
        "2. Copy the pipeline.config file from the extracted model folder to the newly created folder above\n",
        "3. Copy the Dataset (TFRecord files + labelmap) to trainingdemo/annotations\n",
        "4. Modify the pipeline config for hyper-parameters, trained model checkpoint and dataset paths."
      ]
    },
    {
      "cell_type": "code",
      "execution_count": null,
      "metadata": {},
      "outputs": [],
      "source": [
        "# Run the following commands in the terminal to train the respective models after modifying the pipeline config\n",
        "python model_main_tf2.py --model_dir=models/my_ssd_mobilenet --pipeline_config_path=models/my_ssd_mobilenet/pipeline.config\n",
        "python model_main_tf2.py --model_dir=models/my_ssdlite_mobilenet --pipeline_config_path=models/my_ssdlite_mobilenet/pipeline.config\n",
        "python model_main_tf2.py --model_dir=models/my_ssd_resnet --pipeline_config_path=models/my_ssd_resnet/pipeline.config"
      ]
    },
    {
      "cell_type": "code",
      "execution_count": 33,
      "metadata": {
        "colab": {
          "base_uri": "https://localhost:8080/"
        },
        "id": "pq5Qw84kvnVy",
        "outputId": "0c727799-3e8c-478f-f049-0a84760d158e"
      },
      "outputs": [
        {
          "name": "stdout",
          "output_type": "stream",
          "text": [
            "Collecting opencv-python-headless==4.1.2.30\n",
            "  Downloading opencv_python_headless-4.1.2.30-cp37-cp37m-manylinux1_x86_64.whl (21.8 MB)\n",
            "\u001b[K     |████████████████████████████████| 21.8 MB 43.7 MB/s \n",
            "\u001b[?25hRequirement already satisfied: numpy>=1.14.5 in /usr/local/lib/python3.7/dist-packages (from opencv-python-headless==4.1.2.30) (1.21.5)\n",
            "Installing collected packages: opencv-python-headless\n",
            "Successfully installed opencv-python-headless-4.1.2.30\n"
          ]
        }
      ],
      "source": [
        "!pip install opencv-python-headless==4.1.2.30"
      ]
    },
    {
      "cell_type": "markdown",
      "metadata": {},
      "source": [
        "### Export the Trained Models"
      ]
    },
    {
      "cell_type": "code",
      "execution_count": null,
      "metadata": {
        "colab": {
          "base_uri": "https://localhost:8080/"
        },
        "id": "UeI2URnR9zhw",
        "outputId": "994ef97d-2ea6-47a4-b759-4d5deb8b0635"
      },
      "outputs": [],
      "source": [
        "# Run the following commands in the terminal to export the respective models\n",
        "python exporter_main_v2.py --input_type image_tensor --pipeline_config_path models/my_ssd_mobilenet/pipeline.config --trained_checkpoint_dir models/my_ssd_mobilenet --output_directory exported_models/my_model_ssd\n",
        "python exporter_main_v2.py --input_type image_tensor --pipeline_config_path models/my_ssdlite_mobilenet/pipeline.config --trained_checkpoint_dir models/my_ssdlite_mobilenet --output_directory exported_models/my_model_ssdlite\n",
        "python exporter_main_v2.py --input_type image_tensor --pipeline_config_path models/my_ssd_v1/pipeline.config --trained_checkpoint_dir models/my_ssd_v1 --output_directory exported_models/my_ssd_v1"
      ]
    },
    {
      "cell_type": "markdown",
      "metadata": {
        "id": "GIIKwpxtGAhK"
      },
      "source": [
        "Use *inference_demo.py* to Run inference on the model"
      ]
    }
  ],
  "metadata": {
    "accelerator": "GPU",
    "colab": {
      "machine_shape": "hm",
      "name": "Custom Object Detection.ipynb",
      "provenance": []
    },
    "interpreter": {
      "hash": "b2e0be80548950f6d4e84f0a0c6bd60628be151d4c1d1a7d045ada76702bebe5"
    },
    "kernelspec": {
      "display_name": "Python (cv703)",
      "language": "python",
      "name": "python3"
    },
    "language_info": {
      "codemirror_mode": {
        "name": "ipython",
        "version": 3
      },
      "file_extension": ".py",
      "mimetype": "text/x-python",
      "name": "python",
      "nbconvert_exporter": "python",
      "pygments_lexer": "ipython3",
      "version": "3.8.11"
    }
  },
  "nbformat": 4,
  "nbformat_minor": 0
}
